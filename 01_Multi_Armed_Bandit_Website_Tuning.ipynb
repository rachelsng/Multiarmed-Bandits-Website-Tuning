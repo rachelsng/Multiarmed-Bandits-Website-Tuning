{
 "cells": [
  {
   "cell_type": "markdown",
   "metadata": {
    "id": "dFm8v6jReUfT"
   },
   "source": [
    "# Using Multi-armed Bandits to Determine Best Website Layout\n",
    "\n",
    "We aim to maximize the number of visitors who sign up to our website. Here, we figure out which of the 24 website configurations is the best, in the least amount of tries as possible. \n",
    "\n",
    "4 Multi-Armed Bandit algorithms are implemented and compared.\n",
    "\n",
    "#### Content\n",
    "\n",
    "- [0. Recap of Dataset](#section0)\n",
    "- [1. Uniform Exploration Algorithm](#section1)\n",
    "- [2. Epsilon-greedy Algorithm](#section2)\n",
    "- [3. Epsilon-greedy Algorithm with Learning Factor](#section3)\n",
    "- [4. Upper Confidence Bound (UCB 1)](#section4)\n",
    "- [5. Conclusion: Best Website Configuration is \\#11!](#section5)\n",
    "- [6. Comparing Algorithms using Cumulative Regret](#section6)\n",
    "    - [6.1 Conclusion: Best Algorithm is UCB1](#section6.1)"
   ]
  },
  {
   "cell_type": "code",
   "execution_count": 1,
   "metadata": {
    "id": "YYzTWL5CeUfX"
   },
   "outputs": [],
   "source": [
    "# Import libraries and set parameters\n",
    "\n",
    "import pandas as pd\n",
    "import numpy as np\n",
    "import matplotlib.pyplot as plt\n",
    "import seaborn as sns\n",
    "import random as r\n",
    "\n",
    "from server_pull import pull\n",
    "\n",
    "sns.set(font_scale=1.2)\n",
    "\n",
    "# Set up parameters\n",
    "\n",
    "a = 24 # arms\n",
    "t = 500 # rounds"
   ]
  },
  {
   "cell_type": "markdown",
   "metadata": {},
   "source": [
    "## 0. Recap of Dataset<a class=\"anchor\" id=\"section0\"></a>\n",
    "\n",
    "The output that from the simulated dataset is a dictionary, e.g.:\n",
    "\n",
    "```\n",
    "{'Arm': '2', 'NetReward': 455, 'Pull': 30, 'Reward': 22}\n",
    "```\n",
    "\n",
    "- Arm: The arm that you pulled. In this case, you pulled arm 2.\n",
    "- Net Reward: The total reward up to the current pull. In this case, your total reward so fair is 455. \n",
    "- Pull: How many times you have pulled. In this case, this is your 30th pull.\n",
    "- Reward: Reward from current pull. In this case, your reward is 22/100.\n",
    "\n",
    "If your application outputs data similarly, the following algorithms may be easily reapplied."
   ]
  },
  {
   "cell_type": "markdown",
   "metadata": {
    "id": "YdGwBOy5eUfZ"
   },
   "source": [
    "## 1. Uniform Exploration<a class=\"anchor\" id=\"section1\"></a>\n",
    "\n",
    "In this algorithm:\n",
    "\n",
    "1. Each arm is tried N times (exploration)\n",
    "2. Arm $\\hat{a}$ with highest reward is selected\n",
    "3. Play $\\hat{a}$ for all remaining rounds.\n"
   ]
  },
  {
   "cell_type": "code",
   "execution_count": 2,
   "metadata": {
    "id": "JpJHQOtueUfZ"
   },
   "outputs": [],
   "source": [
    "# Set up a DataFrame to collect rewards from arm pulls\n",
    "reward_uni = pd.DataFrame(index=range(0,t),columns=range(0,a))\n",
    "reward_uni.head()\n",
    "\n",
    "# Set N\n",
    "N = 10\n",
    "\n",
    "# NEED TO CHANGE TO TRY ONE ARM PER TIME PERIOD, sequentially\n",
    "# For each round N, add the reward to the DF\n",
    "for j in range(a):\n",
    "    for i in range(N*j,N*(j+1)):\n",
    "        output = pull('user19', '7iAUuySv', j)\n",
    "        reward_uni.loc[i, j] = output['Reward']\n",
    "        \n",
    "# Play the best arm for the rest of the duration\n",
    "best_arm_play = reward_uni.mean().idxmax()\n",
    "\n",
    "for i in range (N*a,t):\n",
    "    output = pull('user19', '7iAUuySv', best_arm_play)\n",
    "    reward_uni.loc[i, best_arm_play] = output['Reward']"
   ]
  },
  {
   "cell_type": "code",
   "execution_count": 3,
   "metadata": {
    "id": "OcIk9hWleyBB"
   },
   "outputs": [
    {
     "name": "stdout",
     "output_type": "stream",
     "text": [
      "Uniform Exploration Results\n",
      "The best arm is: 11\n",
      "The best mean reward is:23.5\n",
      "The arm chosen by uniform exploration is: 19\n",
      "The mean reward of chosen arm is: 23.24\n",
      "Exploration phase is: 240 rounds\n"
     ]
    }
   ],
   "source": [
    "# Best arm from uniform exploration defined as the arm that gives the highest rewards\n",
    "best_arm_uni = reward_uni.mean().idxmax()\n",
    "\n",
    "print('Uniform Exploration Results')\n",
    "print(\"The best arm is: \" + str(best_arm_uni))\n",
    "print(\"The best mean reward is:\" + str(round(reward_uni.mean()[best_arm_uni],2)))\n",
    "print(\"The arm chosen by uniform exploration is: \" + str(best_arm_play))\n",
    "print(\"The mean reward of chosen arm is: \" + str(round(reward_uni.mean()[best_arm_play],2)))\n",
    "print(\"Exploration phase is: {} rounds\".format(str(N*a)))"
   ]
  },
  {
   "cell_type": "markdown",
   "metadata": {
    "id": "ypbCJv-weUfa"
   },
   "source": [
    "## 2. Epsilon-greedy Algorithm<a class=\"anchor\" id=\"section2\"></a>\n",
    "\n",
    "In this algorithm:\n",
    "\n",
    "1. Toss a coin with success probability of epsilon ($\\epsilon_t$)\n",
    "2. If success, then explore randomly\n",
    "3. If fail, choose arm with highest average reward so far\n"
   ]
  },
  {
   "cell_type": "code",
   "execution_count": 4,
   "metadata": {},
   "outputs": [],
   "source": [
    "# Initialize containers\n",
    "\n",
    "pull_counter = np.zeros(a)\n",
    "reward_raw =pd.DataFrame(index=range(0,t+1),columns=range(0,a))\n",
    "cum_mean = pd.DataFrame()\n",
    "reward_raw.rename({24:'p'}, axis='columns', inplace = True)\n",
    "\n",
    "epsilon=0.3\n",
    "initial_a=0"
   ]
  },
  {
   "cell_type": "code",
   "execution_count": 5,
   "metadata": {
    "id": "oJ8ELUd6eUfa"
   },
   "outputs": [],
   "source": [
    "for turn in range(t):\n",
    "        \n",
    "# Generate random p vs epsilon and determine arm to pull\n",
    "    \n",
    "    p = r.uniform(0,1)\n",
    "    \n",
    "    # to check only\n",
    "    reward_raw.loc[turn, 'p'] = p\n",
    "\n",
    "    if p>=epsilon or pull_counter.sum()==0: # exploit if p>=0.30 (70% exploit rate)\n",
    "\n",
    "        ## For initial pull,\n",
    "        \n",
    "        if pull_counter.sum()==0:\n",
    "            pull_arm=initial_a\n",
    "            output = pull('user19', '7iAUuySv', pull_arm)\n",
    "\n",
    "        ## For succeeding pulls to exploit,\n",
    "        \n",
    "        else:\n",
    "            pull_arm= reward_raw.loc[:turn,:].mean().idxmax() #take culmulative mean up current round of all arms\n",
    "            output = pull('user19', '7iAUuySv', pull_arm)\n",
    "    \n",
    "    else: # explore if p<30 (30% exploration rate)\n",
    "        \n",
    "        ## Initialize list of choices and exclude best arm \n",
    "        \n",
    "        choices=list(range(0,24))\n",
    "        remove_best_arm = reward_raw.loc[:turn,:].mean().idxmax()\n",
    "        choices.remove(remove_best_arm)\n",
    "        \n",
    "\n",
    "        ## Randomly pull arm for truncated list\n",
    "        \n",
    "        pull_arm=r.choice(choices)\n",
    "        output = pull('user19', '7iAUuySv', pull_arm)\n",
    "\n",
    "# Update counters and containers before end of turn\n",
    "\n",
    "    ## Refresh pull counter\n",
    "    \n",
    "    pull_counter[pull_arm]=pull_counter[pull_arm]+1\n",
    "\n",
    "    ## Refresh reward_raw, reward_sum\n",
    "    \n",
    "    reward_raw.iloc[turn,pull_arm]=output['Reward']    \n",
    "    cum_mean[turn]=reward_raw.loc[:turn,:].mean()\n"
   ]
  },
  {
   "cell_type": "code",
   "execution_count": 6,
   "metadata": {},
   "outputs": [
    {
     "name": "stdout",
     "output_type": "stream",
     "text": [
      "Base Epsilon Greedy (EG) Results\n",
      "The best arm is: 11\n",
      "The best mean reward is:24.7\n",
      "The arm chosen by EG exploration is: 11\n",
      "The mean reward of chosen arm is: 24.7\n",
      "Exploration phase is: 260 rounds\n"
     ]
    }
   ],
   "source": [
    "# Display best arm\n",
    "\n",
    "reward_raw=reward_raw.replace(0,np.nan)\n",
    "best_arm_egreedy = reward_raw.mean().idxmax()\n",
    "\n",
    "print('Base Epsilon Greedy (EG) Results')\n",
    "print(\"The best arm is: \" + str(best_arm_egreedy))\n",
    "print(\"The best mean reward is:\" + str(round(reward_raw.mean()[best_arm_egreedy],2)))\n",
    "print(\"The arm chosen by EG exploration is: \" + str(reward_raw.mean().idxmax()))\n",
    "print(\"The mean reward of chosen arm is: \" + str(round(reward_raw.mean()[reward_raw.mean().idxmax()],2)))\n",
    "print(\"Exploration phase is: {} rounds\".format(str(t-reward_raw[best_arm_egreedy].count())))\n",
    "\n",
    "\n",
    "# Store dfs, export csv as backup\n",
    "\n",
    "egreedy_cum_mean=cum_mean.T.drop('p',axis=1)\n",
    "egreedy_cum_mean=egreedy_cum_mean.replace(np.nan,0)\n",
    "egreedy_reward_raw=reward_raw.copy()\n",
    "egreedy_cum_mean.to_csv('egreedy_cum_mean.csv')\n",
    "egreedy_reward_raw.to_csv('eg_reward_raw.csv')\n"
   ]
  },
  {
   "cell_type": "markdown",
   "metadata": {
    "id": "RDSgdbK_eUfa"
   },
   "source": [
    "## 3. Epsilon-greedy Algorithm with Learning Factor<a class=\"anchor\" id=\"section3\"></a>\n",
    "\n",
    "In this algorithm:\n",
    "\n",
    "1. Toss a coin with success probability of epsilon ($\\epsilon_t$)\n",
    "    - $\\epsilon_t$ reduces with time according to $\\epsilon_t / (1 + pulls/decayfactor)$\n",
    "2. If success, then explore randomly\n",
    "3. If fail, choose arm with highest average reward so far"
   ]
  },
  {
   "cell_type": "code",
   "execution_count": 8,
   "metadata": {
    "id": "WsS2N0HZeUfb"
   },
   "outputs": [],
   "source": [
    "# Initialize containers\n",
    "\n",
    "pull_counter = np.zeros(a)\n",
    "reward_raw =pd.DataFrame(index=range(0,t+1),columns=range(0,a))\n",
    "cum_mean = pd.DataFrame()\n",
    "reward_raw.rename({24:'p'}, axis='columns', inplace = True)\n",
    "\n",
    "epsilon=0.3\n",
    "initial_a=0\n",
    "decay=1000\n",
    "\n",
    "\n",
    "for turn in range(t):\n",
    "        \n",
    "# Generate random p, epsilon for turn and determine arm to pull\n",
    "   \n",
    "    epsilon=epsilon/(1+np.sum(pull_counter)/decay)\n",
    "    p = r.uniform(0,1)\n",
    "    \n",
    "    # to check only\n",
    "    reward_raw.loc[turn, 'p'] = p\n",
    "\n",
    "    if p>=epsilon or pull_counter.sum()==0: # exploit if p>=0.30 (70% exploit rate)\n",
    "\n",
    "        ## For initial pull,\n",
    "        \n",
    "        if pull_counter.sum()==0:\n",
    "            pull_arm=initial_a\n",
    "            output = pull('user19', '7iAUuySv', pull_arm)\n",
    "\n",
    "        ## For succeeding pulls to exploit,\n",
    "        \n",
    "        else:\n",
    "            pull_arm= reward_raw.loc[:turn,:].mean().idxmax() #take culmulative mean up current round of all arms\n",
    "            output = pull('user19', '7iAUuySv', pull_arm)\n",
    "    \n",
    "    else: # explore if p<30 (30% exploration rate)\n",
    "        \n",
    "        ## Initialize list of choices and exclude best arm \n",
    "        \n",
    "        choices=list(range(0,24))\n",
    "        remove_best_arm = reward_raw.loc[:turn,:].mean().idxmax()\n",
    "        choices.remove(remove_best_arm)\n",
    "        \n",
    "\n",
    "        ## Randomly pull arm for truncated list\n",
    "        \n",
    "        pull_arm=r.choice(choices)\n",
    "        output = pull('user19', '7iAUuySv', pull_arm)\n",
    "\n",
    "# Update counters and containers before end of turn\n",
    "\n",
    "    ## Refresh pull counter\n",
    "    \n",
    "    pull_counter[pull_arm]=pull_counter[pull_arm]+1\n",
    "\n",
    "    ## Refresh reward_raw, reward_sum\n",
    "    \n",
    "    reward_raw.iloc[turn,pull_arm]=output['Reward']    \n",
    "    cum_mean[turn]=reward_raw.loc[:turn,:].mean()"
   ]
  },
  {
   "cell_type": "code",
   "execution_count": 9,
   "metadata": {},
   "outputs": [
    {
     "name": "stdout",
     "output_type": "stream",
     "text": [
      "Base Epsilon Greedy - Learning Factor (EGL) Results\n",
      "The best arm is: 11\n",
      "The best mean reward is:24.51\n",
      "The arm chosen by EGL exploration is: 11\n",
      "The mean reward of chosen arm is: 24.51\n",
      "Exploration phase is: 17 rounds\n"
     ]
    }
   ],
   "source": [
    "# Display best arm\n",
    "\n",
    "reward_raw=reward_raw.replace(0,np.nan)\n",
    "best_arm_egreedy_lf= reward_raw.mean().idxmax()\n",
    "\n",
    "print('Base Epsilon Greedy - Learning Factor (EGL) Results')\n",
    "print(\"The best arm is: \" + str(best_arm_egreedy_lf))\n",
    "print(\"The best mean reward is:\" + str(round(reward_raw.mean()[best_arm_egreedy_lf],2)))\n",
    "print(\"The arm chosen by EGL exploration is: \" + str(reward_raw.mean().idxmax()))\n",
    "print(\"The mean reward of chosen arm is: \" + str(round(reward_raw.mean()[reward_raw.mean().idxmax()],2)))\n",
    "print(\"Exploration phase is: {} rounds\".format(str(t-reward_raw[best_arm_egreedy_lf].count())))\n",
    "\n",
    "\n",
    "# Store dfs\n",
    "\n",
    "egreedy_cum_mean_lf=cum_mean.T.drop('p',axis=1)\n",
    "egreedy_cum_mean_lf=egreedy_cum_mean.replace(np.nan,0)\n",
    "egreedy_reward_raw_lf=reward_raw.copy()\n"
   ]
  },
  {
   "cell_type": "markdown",
   "metadata": {
    "id": "SfyPnwwveUfb"
   },
   "source": [
    "## 4. Upper Confidence Bound (UCB 1)<a class=\"anchor\" id=\"section4\"></a>\n",
    "\n",
    "In this algorithm:\n",
    "\n",
    "1. Play each arm once to initialize\n",
    "2. At every round $t$,\n",
    "    - Calculate the UCB index\n",
    "    - Choose the arm with the highest UCB index\n",
    "\n",
    "UCB index: $\\mu_a(t) + \\sqrt{\\frac{2ln(t)}{n_a(t)}}$\n",
    "\n",
    "where a = arm, t = round t.\n",
    "\n",
    "- The first term ($\\mu_a(t)$) encourages exploitation of arms that have a high expected mean reward.\n",
    "- The second term would be higher for less-explored arms as t increases. This effectively increases the potential for the algorithm to explore these arms after some time."
   ]
  },
  {
   "cell_type": "code",
   "execution_count": 11,
   "metadata": {
    "id": "Kuuts7hceUfb",
    "outputId": "fcd2f511-2f8c-4225-8cb9-f38342d05629"
   },
   "outputs": [
    {
     "data": {
      "text/plain": [
       "(500, 24)"
      ]
     },
     "execution_count": 11,
     "metadata": {},
     "output_type": "execute_result"
    }
   ],
   "source": [
    "# Set up a counter to collect number of tries for each arm\n",
    "counter = np.zeros(a)\n",
    "\n",
    "# Set up a DataFrame to collect rewards from arm pulls\n",
    "reward = pd.DataFrame(index=range(0,t),columns=range(0,a))\n",
    "\n",
    "# Set up a DataFrame to compute ucb index at each round \n",
    "ucb = pd.DataFrame(index=range(0, t),columns=range(0, a))\n",
    "np.shape(ucb)"
   ]
  },
  {
   "cell_type": "code",
   "execution_count": 12,
   "metadata": {
    "id": "TR_YzBedeUfd"
   },
   "outputs": [],
   "source": [
    "# For loop to pull arms\n",
    "\n",
    "# For each round...\n",
    "for i in range(t):\n",
    "\n",
    "    # initialize by playing all arms once\n",
    "    if i == 0:\n",
    "        for j in range(a):\n",
    "            output = pull('user19', '7iAUuySv', j)\n",
    "            reward.loc[i,j] = output['Reward'] #capture the reward\n",
    "            ucb.loc[i,j] = reward.loc[:,j].mean() #update as the first line of the ucb term\n",
    "\n",
    "    # if not 0, then start the UCB\n",
    "    else:\n",
    "        # pull the arm with the highest UCB index in the previous line\n",
    "        chosen_arm = pd.to_numeric(ucb.loc[i-1]).idxmax(axis = 1)\n",
    "        output = pull('user19', '7iAUuySv', chosen_arm)\n",
    "        reward.loc[i,chosen_arm] = output['Reward'] #capture the reward\n",
    "        counter[chosen_arm] = counter[chosen_arm] + 1 #add 1 to the arm's counter (numpy array, zero indexed)\n",
    "        \n",
    "        # For all arms, carry forward the UCB term\n",
    "        ucb.loc[i] = ucb.loc[i-1]\n",
    "        \n",
    "        # Update UCB term for the arm that was pulled\n",
    "        mean_a_t = reward.loc[:,chosen_arm].mean()\n",
    "        correction = (2*np.log(i)/counter[chosen_arm])**(1/2) # ln(round) / pull adjustment\n",
    "        ucb.loc[i,chosen_arm] = mean_a_t + correction\n",
    "     "
   ]
  },
  {
   "cell_type": "code",
   "execution_count": 13,
   "metadata": {
    "id": "K5a-t--oeUfe",
    "outputId": "f5b485ef-56e0-4b2d-e97a-97a3eb33c0c8"
   },
   "outputs": [
    {
     "data": {
      "image/png": "[encoded data removed]",
      "text/plain": [
       "<Figure size 864x576 with 1 Axes>"
      ]
     },
     "metadata": {},
     "output_type": "display_data"
    }
   ],
   "source": [
    "sns.set_style(\"whitegrid\")\n",
    "\n",
    "fig = plt.figure(figsize = [12,8])\n",
    "\n",
    "plt.title('UCB Score over Rounds Played', fontsize=20, weight='bold')\n",
    "plt.xlabel(\"Round t\", size=16, labelpad=8)\n",
    "plt.ylabel(\"UCB Score\", size=16, labelpad=8)\n",
    "\n",
    "sns.lineplot(data=ucb.apply(pd.to_numeric), palette = 'tab20', lw=2)\n",
    "\n",
    "plt.legend(bbox_to_anchor=(1.05, 1), loc=2, borderaxespad=0.)\n",
    "\n",
    "plt.show()"
   ]
  },
  {
   "cell_type": "code",
   "execution_count": 14,
   "metadata": {
    "id": "lYnZSn8beUfe",
    "outputId": "79ecab2e-1c98-4807-eabb-91e64e09096f"
   },
   "outputs": [
    {
     "name": "stdout",
     "output_type": "stream",
     "text": [
      "The best arm is: 11\n",
      "The best mean reward is:24.2\n",
      "The arm chosen by UCB is: 11\n",
      "The mean reward of chosen arm is: 24.2\n",
      "Exploration phase is:3\n"
     ]
    }
   ],
   "source": [
    "# Best arm has the highest mean reward in hindsight\n",
    "best_arm_ucb = reward.mean().idxmax()\n",
    "\n",
    "# Arm chosen defined as the one that the algorithm plays as of the last round\n",
    "ucb_final_played = reward.loc[t-1,:].notnull()\n",
    "chosen_arm_ucb = reward.loc[t-1,:][ucb_final_played].index.to_list()[0]\n",
    "\n",
    "# Find index of the last row where there is a nan, then +1 for 0-index and\n",
    "# +1 for the next try when the best arm is found. All other tries from that point onwards is on the best arm.\n",
    "nanrows = reward.loc[:,best_arm_ucb].isnull()\n",
    "nanmax = reward[nanrows].index.max()\n",
    "\n",
    "print(\"The best arm is: {}\".format(best_arm_ucb))\n",
    "print(\"The best mean reward is:\" + str(round(reward.mean()[best_arm_ucb],2)))\n",
    "print(\"The arm chosen by UCB is: \" + str(chosen_arm_ucb))\n",
    "print(\"The mean reward of chosen arm is: \" + str(round(reward.mean()[chosen_arm_ucb],2)))\n",
    "print(\"Exploration phase is:{}\".format(nanmax+2))"
   ]
  },
  {
   "cell_type": "markdown",
   "metadata": {
    "id": "zGnEMLKweUff"
   },
   "source": [
    "## 5. Conclusion: Best Website Configuration is \\#11!<a class=\"anchor\" id=\"section5\"></a>\n",
    "\n",
    "Overall, it is clear that the <b>best arm is arm 11</b> as concluded by 3/4 algorithms. Uniform Exploration arrived at arm 19 instead which had a lower mean reward than the best arm.\n",
    "\n",
    "<img src = \"./images/mabresults.png\" width=\"700\"/>"
   ]
  },
  {
   "cell_type": "markdown",
   "metadata": {},
   "source": [
    "## 6. Comparing Algorithms using Cumulative Regret<a class=\"anchor\" id=\"section6\"></a>\n",
    "\n",
    "Cumulative expected regret was used to quantify the performance of different algorithms. This is quantified as the difference between <b>mean expected reward of the best arm ($\\mu*$)</b>, known after the fact, versus the <b>mean expected reward of the arm tried in round t ($\\mu(a_t)$)</b>. This representing a penalty for not choosing the best arm in each round and wasting tries on non-optimal arms. \n",
    "\n",
    "Regret: $R(T) = \\mu* T - \\sum_{t=1}^{T} \\mu(a_t)$\n",
    "\n",
    "where T = all time periods."
   ]
  },
  {
   "cell_type": "code",
   "execution_count": 15,
   "metadata": {
    "id": "TDEkmUC8aJn7"
   },
   "outputs": [],
   "source": [
    "def regret(rewards_df, best_arm):\n",
    "    \n",
    "    # Define a global dataframe\n",
    "    global regret_calc\n",
    "    \n",
    "    regret_calc = rewards_df.copy()\n",
    "    \n",
    "    # Add empty columns\n",
    "    regret_calc['miu_a'] = np.nan\n",
    "    regret_calc['cumulative_miu_a'] = np.nan\n",
    "    regret_calc['regret'] = np.nan\n",
    "    \n",
    "    # average of best arm across all periods T\n",
    "    regret_calc['miu_star'] = regret_calc[best_arm].mean()\n",
    "    \n",
    "    # compute regret\n",
    "    for i in range(1,t):\n",
    "    \n",
    "        # get the index of arm that was pulled at time t\n",
    "        miu_a_ix = np.where(regret_calc.iloc[i, :a].notnull())[0][0] \n",
    "        # get the mean of the arm that was pulled at time t over the entire t period\n",
    "        miu_a = regret_calc[miu_a_ix].mean()\n",
    "\n",
    "        # store miu_a in the dataframe\n",
    "        regret_calc.loc[i,'miu_a'] = miu_a\n",
    "\n",
    "        # compute cumulative miu_a\n",
    "        regret_calc.loc[i,'cumulative_miu_a'] = regret_calc.loc[:,'miu_a'].sum()\n",
    "\n",
    "        # compute and store regret at time t\n",
    "        regret_calc.loc[i,'regret'] = regret_calc.loc[i,'miu_star'] * (i) - regret_calc.loc[i,'cumulative_miu_a']"
   ]
  },
  {
   "cell_type": "code",
   "execution_count": 16,
   "metadata": {
    "id": "JDzZYF00aJn8",
    "outputId": "ae32cbdc-a708-47fb-91ea-c21f9f4f7b41",
    "scrolled": true
   },
   "outputs": [
    {
     "data": {
      "text/html": [
       "<div>\n",
       "<style scoped>\n",
       "    .dataframe tbody tr th:only-of-type {\n",
       "        vertical-align: middle;\n",
       "    }\n",
       "\n",
       "    .dataframe tbody tr th {\n",
       "        vertical-align: top;\n",
       "    }\n",
       "\n",
       "    .dataframe thead th {\n",
       "        text-align: right;\n",
       "    }\n",
       "</style>\n",
       "<table border=\"1\" class=\"dataframe\">\n",
       "  <thead>\n",
       "    <tr style=\"text-align: right;\">\n",
       "      <th></th>\n",
       "      <th>Uniform</th>\n",
       "      <th>UCB</th>\n",
       "      <th>eGreedy</th>\n",
       "      <th>eGreedy_Adaptive</th>\n",
       "    </tr>\n",
       "  </thead>\n",
       "  <tbody>\n",
       "    <tr>\n",
       "      <th>495</th>\n",
       "      <td>2041.348148</td>\n",
       "      <td>1.696393</td>\n",
       "      <td>1730.245833</td>\n",
       "      <td>125.282609</td>\n",
       "    </tr>\n",
       "    <tr>\n",
       "      <th>496</th>\n",
       "      <td>2041.611111</td>\n",
       "      <td>1.696393</td>\n",
       "      <td>1730.245833</td>\n",
       "      <td>125.282609</td>\n",
       "    </tr>\n",
       "    <tr>\n",
       "      <th>497</th>\n",
       "      <td>2041.874074</td>\n",
       "      <td>1.696393</td>\n",
       "      <td>1730.245833</td>\n",
       "      <td>125.282609</td>\n",
       "    </tr>\n",
       "    <tr>\n",
       "      <th>498</th>\n",
       "      <td>2042.137037</td>\n",
       "      <td>1.696393</td>\n",
       "      <td>1730.245833</td>\n",
       "      <td>125.282609</td>\n",
       "    </tr>\n",
       "    <tr>\n",
       "      <th>499</th>\n",
       "      <td>2042.400000</td>\n",
       "      <td>1.696393</td>\n",
       "      <td>1730.245833</td>\n",
       "      <td>125.282609</td>\n",
       "    </tr>\n",
       "  </tbody>\n",
       "</table>\n",
       "</div>"
      ],
      "text/plain": [
       "         Uniform       UCB      eGreedy  eGreedy_Adaptive\n",
       "495  2041.348148  1.696393  1730.245833        125.282609\n",
       "496  2041.611111  1.696393  1730.245833        125.282609\n",
       "497  2041.874074  1.696393  1730.245833        125.282609\n",
       "498  2042.137037  1.696393  1730.245833        125.282609\n",
       "499  2042.400000  1.696393  1730.245833        125.282609"
      ]
     },
     "execution_count": 16,
     "metadata": {},
     "output_type": "execute_result"
    }
   ],
   "source": [
    "# The regret_calc dataframe is overwritten with every function call\n",
    "regret_plot = pd.DataFrame()\n",
    "\n",
    "# Call regret on the Uniform reward df\n",
    "regret(reward_uni, best_arm_uni)\n",
    "regret_plot['Uniform'] = regret_calc['regret']\n",
    "\n",
    "#Call regret on the UCB reward df\n",
    "regret(reward, best_arm_ucb)\n",
    "regret_plot['UCB'] = regret_calc['regret']\n",
    "\n",
    "# Call regret on the base epsilon greedy\n",
    "regret(egreedy_reward_raw, best_arm_egreedy)\n",
    "regret_plot['eGreedy'] = regret_calc['regret']\n",
    "\n",
    "# Call regret on the epsilon greedy with decay model\n",
    "regret(egreedy_reward_raw_lf, best_arm_egreedy_lf)\n",
    "regret_plot['eGreedy_Adaptive'] = regret_calc['regret']\n",
    "\n",
    "regret_plot.tail()"
   ]
  },
  {
   "attachments": {},
   "cell_type": "markdown",
   "metadata": {},
   "source": [
    "### 6.1 Conclusion: Best Algorithm is UCB1<a class=\"anchor\" id=\"section6.1\"></a>\n",
    "\n",
    "Summarising the above, the cumulative expected regret is as follows. UCB1 is clearly superior as it to quickly converge on the best configuration and begins the exploitation process earlier compared to other algorithms.\n",
    "\n",
    "<img src = \"./images/regret.png\" width=\"700\"/>"
   ]
  },
  {
   "cell_type": "code",
   "execution_count": 17,
   "metadata": {
    "id": "HWYVTEHseUfg",
    "outputId": "99f9f0fa-17c5-4656-f05a-01c8235f4e86"
   },
   "outputs": [
    {
     "data": {
      "image/png": "[encoded data removed]",
      "text/plain": [
       "<Figure size 864x576 with 1 Axes>"
      ]
     },
     "metadata": {},
     "output_type": "display_data"
    }
   ],
   "source": [
    "# We can stitch the regret columns for all and combine in a plot\n",
    "\n",
    "sns.set_style(\"whitegrid\")\n",
    "\n",
    "fig = plt.figure(figsize = [12,8])\n",
    "\n",
    "plt.title('Regret (by algorithm)', fontsize=20, weight='bold')\n",
    "plt.xlabel(\"Round t\", size=16, labelpad=8)\n",
    "plt.ylabel(\"Cumulative Regret\", size=16, labelpad=8)\n",
    "\n",
    "sns.lineplot(data=regret_plot, lw=2)\n",
    "\n",
    "plt.legend(bbox_to_anchor=(1.05, 1), loc=2, borderaxespad=0.)\n",
    "\n",
    "plt.show()"
   ]
  },
  {
   "cell_type": "code",
   "execution_count": null,
   "metadata": {},
   "outputs": [],
   "source": []
  }
 ],
 "metadata": {
  "colab": {
   "name": "ucb2.ipynb",
   "provenance": []
  },
  "kernelspec": {
   "display_name": "Python 3 (ipykernel)",
   "language": "python",
   "name": "python3"
  },
  "language_info": {
   "codemirror_mode": {
    "name": "ipython",
    "version": 3
   },
   "file_extension": ".py",
   "mimetype": "text/x-python",
   "name": "python",
   "nbconvert_exporter": "python",
   "pygments_lexer": "ipython3",
   "version": "3.8.12"
  }
 },
 "nbformat": 4,
 "nbformat_minor": 1
}
